{
  "cells": [
    {
      "cell_type": "markdown",
      "metadata": {
        "id": "view-in-github",
        "colab_type": "text"
      },
      "source": [
        "<a href=\"https://colab.research.google.com/github/Yaweni/Vic/blob/main/Drebin_Traitement.ipynb\" target=\"_parent\"><img src=\"https://colab.research.google.com/assets/colab-badge.svg\" alt=\"Open In Colab\"/></a>"
      ]
    },
    {
      "cell_type": "code",
      "execution_count": 20,
      "metadata": {
        "id": "Lv28H4vg_A6y"
      },
      "outputs": [],
      "source": [
        "import os\n",
        "import glob\n",
        "import zipfile\n",
        "import pandas as pd\n",
        "import pyarrow as pa\n",
        "import pyarrow.parquet as pq\n",
        "import csv"
      ]
    },
    {
      "cell_type": "code",
      "execution_count": 21,
      "metadata": {
        "colab": {
          "base_uri": "https://localhost:8080/"
        },
        "id": "vJBR6--I5Cq6",
        "outputId": "cb47c8c1-110c-4738-8e74-8ae31b7aa946"
      },
      "outputs": [
        {
          "output_type": "stream",
          "name": "stdout",
          "text": [
            "drebin-5.zip        100%[===================>] 562.78M  9.11MB/s    in 2m 3s   \n",
            "drebin-4.zip        100%[===================>]   1.17G  9.07MB/s    in 2m 15s  \n",
            "drebin-2½.zip       100%[===================>]   1.21G  9.18MB/s    in 2m 24s  \n",
            "drebin-33⅓.zip      100%[===================>]   1.07G  4.83MB/s    in 5m 4s   \n",
            "drebin-1.zip        100%[===================>]   1.05G  9.23MB/s    in 2m 0s   \n",
            "drebin-0.zip        100%[===================>]   1.10G  9.30MB/s    in 2m 13s  \n"
          ]
        }
      ],
      "source": [
        "!wget -q --show-progress --user drebin --password h9FN43vH --no-check-certificate https://www.sec.cs.tu-bs.de/~danarp/drebin/dataset/drebin-5.zip\n",
        "!wget -q --show-progress --user drebin --password h9FN43vH --no-check-certificate https://www.sec.cs.tu-bs.de/~danarp/drebin/dataset/drebin-4.zip\n",
        "!wget -q --show-progress --user drebin --password h9FN43vH --no-check-certificate https://www.sec.cs.tu-bs.de/~danarp/drebin/dataset/drebin-2%C2%BD.zip\n",
        "!wget -q --show-progress --user drebin --password h9FN43vH --no-check-certificate https://www.sec.cs.tu-bs.de/~danarp/drebin/dataset/drebin-33%E2%85%93.zip\n",
        "!wget -q --show-progress --user drebin --password h9FN43vH --no-check-certificate https://www.sec.cs.tu-bs.de/~danarp/drebin/dataset/drebin-1.zip\n",
        "!wget -q --show-progress --user drebin --password h9FN43vH --no-check-certificate https://www.sec.cs.tu-bs.de/~danarp/drebin/dataset/drebin-0.zip\n",
        "!wget https://github.com/Yaweni/NER-Lena/releases/download/Test/ops.txt\n",
        "!wget -q --show-progress  https://bitbucket.org/JesusFreke/smali/downloads/baksmali-2.5.2.jar"
      ]
    },
    {
      "cell_type": "code",
      "execution_count": 22,
      "metadata": {
        "id": "SfBlGzAu6Fxr"
      },
      "outputs": [],
      "source": [
        "%%capture\n",
        "!unzip -P infected '*drebin*.zip'"
      ]
    },
    {
      "cell_type": "code",
      "execution_count": 23,
      "metadata": {
        "id": "wyJyeoBr90t6"
      },
      "outputs": [],
      "source": [
        "!mkdir extracted"
      ]
    },
    {
      "cell_type": "code",
      "execution_count": 24,
      "metadata": {
        "id": "T0yoZVwC_RY3"
      },
      "outputs": [],
      "source": [
        "os.chdir('/content/')\n",
        "f=glob.glob('*-*/*')\n",
        "!rm -r /content/extracted*\n",
        "!mkdir extracted"
      ]
    },
    {
      "cell_type": "code",
      "execution_count": 25,
      "metadata": {
        "colab": {
          "base_uri": "https://localhost:8080/"
        },
        "id": "Lhi0fFhCBCGv",
        "outputId": "5257de37-83e3-4157-b74c-1be4e24cf236"
      },
      "outputs": [
        {
          "output_type": "stream",
          "name": "stdout",
          "text": [
            "Error\n",
            "Error\n",
            "Error\n",
            "Pas ficher zip\n",
            "Pas ficher zip\n",
            "Pas ficher zip\n",
            "Error\n",
            "Error\n",
            "Pas ficher zip\n"
          ]
        }
      ],
      "source": [
        "\n",
        "\n",
        "\n",
        "for apk in f:\n",
        "\n",
        "  dir=os.path.basename(apk)\n",
        "  try:\n",
        "    zip_ref=zipfile.ZipFile(apk, 'r') \n",
        "  except:\n",
        "    print(\"Pas ficher zip\")\n",
        "  else:\n",
        "    os.chdir('/content/extracted/')\n",
        "    try:\n",
        "        zip_ref.extractall(dir)\n",
        "    except:\n",
        "      print('Error')\n",
        "  finally:\n",
        "    os.chdir('/content/')\n",
        "\n",
        "\n",
        "\n",
        "        "
      ]
    },
    {
      "cell_type": "code",
      "execution_count": 26,
      "metadata": {
        "id": "RpMuRUChQfVZ"
      },
      "outputs": [],
      "source": [
        " os.chdir('/content/')\n"
      ]
    },
    {
      "cell_type": "code",
      "execution_count": 28,
      "metadata": {
        "id": "WLzodjjIC0LU",
        "colab": {
          "base_uri": "https://localhost:8080/"
        },
        "outputId": "252b23b7-0b65-4dbc-fdd7-2c5ffd1e2cd5"
      },
      "outputs": [
        {
          "output_type": "stream",
          "name": "stdout",
          "text": [
            "rm: cannot remove 'smali': No such file or directory\n"
          ]
        }
      ],
      "source": [
        "!rm -r smali\n",
        "!mkdir smali"
      ]
    },
    {
      "cell_type": "code",
      "execution_count": 29,
      "metadata": {
        "colab": {
          "base_uri": "https://localhost:8080/"
        },
        "id": "7e9bUTGxToM0",
        "outputId": "0801295c-d721-46b3-df71-d09974847e00"
      },
      "outputs": [
        {
          "output_type": "stream",
          "name": "stderr",
          "text": [
            "100%|██████████| 50/50 [01:19<00:00,  1.58s/it]\n"
          ]
        }
      ],
      "source": [
        "from tqdm import tqdm\n",
        "from joblib import Parallel, delayed\n",
        "os.sys\n",
        "os.chdir('/content/extracted')\n",
        "b=glob.glob('*')\n",
        "\n",
        "for dir in tqdm(b[:50]):\n",
        "  path=dir+'/*.dex'\n",
        "  dest= '/content/smali/'+ dir\n",
        "  !java -jar /content/baksmali-2.5.2.jar disassemble $path -o $dest\n"
      ]
    },
    {
      "cell_type": "code",
      "source": [
        "import threading\n",
        "os.chdir('/content/extracted')\n",
        "b=glob.glob('*')\n",
        "def func(i,t,j):\n",
        "    #Perform one action here\n",
        "    a=(j/t).__floor__()\n",
        "    if i != (t-1):\n",
        "      cut = b[i*a:(i+1)*a]\n",
        "    else:\n",
        "      cut = b[t*a:]\n",
        "    for dir in cut:\n",
        "      path=dir+'/*.dex'\n",
        "      dest= '/content/smali/'+ dir\n",
        "      !java -jar /content/baksmali-2.5.2.jar disassemble $path -o $dest\n",
        "\n",
        "num=10\n",
        "j=len(b)      \n",
        "for i in range(10):\n",
        "    threading.Thread(target=func(i,num,j)).start()\n",
        "\n"
      ],
      "metadata": {
        "colab": {
          "base_uri": "https://localhost:8080/"
        },
        "id": "l86R2BnAuUkR",
        "outputId": "f03ece6b-d6b4-443f-abf2-896a26e47712"
      },
      "execution_count": null,
      "outputs": [
        {
          "metadata": {
            "tags": null
          },
          "name": "stdout",
          "output_type": "stream",
          "text": [
            "Can't find file: edc59a6223fb6af5e8a038cd32ada988e1cf4bdf154e4745ef33a0784acd131f/*.dex\n",
            "Can't find file: 788b97bb7be845f373271bb92f50d6a5f2977bdad363e7a8080a23527566448f/*.dex\n"
          ]
        }
      ]
    },
    {
      "cell_type": "code",
      "execution_count": 8,
      "metadata": {
        "id": "IoxdSzcD_ETl"
      },
      "outputs": [],
      "source": [
        "def std_codes_list(standard_codes):\n",
        "\n",
        "    std_codes = [] #empty list which will later contain all the standard op-codes read from the ops.txt file\n",
        "\n",
        "    with open(standard_codes,'r') as fp:\n",
        "        for cnt, line in enumerate(fp): # reading each op-code in the txt file\n",
        "            print(cnt,line)\n",
        "            read_lines = fp.read()\n",
        "            read_lines = read_lines.split(\"\\n\")\n",
        "            std_codes = read_lines\n",
        "    return std_codes "
      ]
    },
    {
      "cell_type": "code",
      "execution_count": 36,
      "metadata": {
        "id": "yXXNif7t5ZCu"
      },
      "outputs": [],
      "source": [
        "standard_codes = \"/content/ops.txt\" \n",
        "\n",
        "\n",
        "app_dir= \"/content/smali/\""
      ]
    },
    {
      "cell_type": "code",
      "source": [
        "def parse_smalis(app_dir,each_apk):\n",
        "\n",
        "    smali_content = [] #Empty list that will later contain all of the content of all of the smali files.\n",
        "    \n",
        "\n",
        "    # import ipdb\n",
        "    # ipdb.set_trace() \n",
        "    files = glob.glob(app_dir+each_apk+\"/**/*.smali\", recursive = True)\n",
        "    #for root, dirs, files in os.walk(app_dir+each_apk+\"/smali\"): #Scanning through each file in each sub-directory\n",
        "    for file in files:\n",
        "            \n",
        "\n",
        "        #if file.endswith(\".smali\"):\n",
        "\n",
        "            \n",
        "\n",
        "        #file_dest= os.path.join(root, file)\n",
        "        file_dest=file\n",
        "        with open(file_dest,'r') as fp:\n",
        "            smali_content += fp.readlines()\n",
        "    smali_content = [line.rstrip('\\n').split(\" \") for line in smali_content] #store the contents of a file\n",
        "\n",
        "    return smali_content"
      ],
      "metadata": {
        "id": "rkU9V-RjkbYa"
      },
      "execution_count": 15,
      "outputs": []
    },
    {
      "cell_type": "code",
      "source": [
        "def match_op_codes(std_codes, smali_content,each_apk):\n",
        "\n",
        "    occ = \"\"\n",
        "    for each_line in smali_content:\n",
        "        for each_word in each_line:\n",
        "            if (each_word) in (std_codes):\n",
        "                occ+=each_word+\" \"\n",
        "    fq= {}\n",
        "    \n",
        "    fq.setdefault('Apk Name',each_apk)\n",
        "    fq.setdefault('Codes',occ)\n",
        "    fq.setdefault('Label','Malware')\n",
        "    return fq"
      ],
      "metadata": {
        "id": "gk4_XIYDlYcg"
      },
      "execution_count": 16,
      "outputs": []
    },
    {
      "cell_type": "code",
      "source": [
        "std_codes = std_codes_list(standard_codes)\n",
        "os.chdir('/content/smali')\n",
        "\n",
        "apk_list = glob.glob('*')\n",
        "valeurs=[]\n",
        "for each_apk in apk_list:\n",
        "    smali_content = parse_smalis(app_dir,each_apk)\n",
        "    fq = match_op_codes(std_codes,smali_content,each_apk)\n",
        "    valeurs.append(fq)\n",
        "  "
      ],
      "metadata": {
        "colab": {
          "base_uri": "https://localhost:8080/"
        },
        "id": "nOPMT08-ltPq",
        "outputId": "d45cc621-3fa0-4bb2-d6e9-17a6d1699f71"
      },
      "execution_count": 37,
      "outputs": [
        {
          "output_type": "stream",
          "name": "stdout",
          "text": [
            "0 unused_F1\n",
            "\n"
          ]
        }
      ]
    },
    {
      "cell_type": "code",
      "source": [
        "\n",
        "apk_info = ['Apk Name', 'Codes','Label']\n",
        "os.chdir('/content/')\n",
        "\n",
        "with open('Drebin.csv', 'w') as csvfile:\n",
        "    writer = csv.DictWriter(csvfile, fieldnames = apk_info)\n",
        "    writer.writeheader()\n",
        "    writer.writerows(valeurs)"
      ],
      "metadata": {
        "id": "AjkSJa5_mtTX"
      },
      "execution_count": 39,
      "outputs": []
    },
    {
      "cell_type": "code",
      "source": [
        "\n",
        "df=pd.read_csv(\"Drebin.csv\")\n",
        "table = pa.Table.from_pandas(df)\n",
        "pq.write_table(table, 'Drebin.parquet', compression='BROTLI')"
      ],
      "metadata": {
        "id": "i8DHFiMGm_0z"
      },
      "execution_count": 40,
      "outputs": []
    },
    {
      "cell_type": "code",
      "source": [
        "from google.colab import drive\n",
        "drive.mount('/content/drive')"
      ],
      "metadata": {
        "id": "iHNkiAZkoR4f"
      },
      "execution_count": null,
      "outputs": []
    },
    {
      "cell_type": "code",
      "source": [
        "!cp /content/Drebin.parquet /content/drive/MyDrive"
      ],
      "metadata": {
        "id": "2rDj3z7ZoUVF"
      },
      "execution_count": null,
      "outputs": []
    }
  ],
  "metadata": {
    "colab": {
      "provenance": [],
      "include_colab_link": true
    },
    "kernelspec": {
      "display_name": "Python 3",
      "name": "python3"
    },
    "language_info": {
      "name": "python"
    }
  },
  "nbformat": 4,
  "nbformat_minor": 0
}